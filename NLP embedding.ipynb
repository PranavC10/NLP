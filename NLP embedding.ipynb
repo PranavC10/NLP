{
 "cells": [
  {
   "cell_type": "markdown",
   "id": "d36c23e3",
   "metadata": {},
   "source": [
    "## Word Embeddings\n",
    "\n",
    "Word Embeddings are a method of extracting features out of text so that we can input those features into a machine learning model to work with text data."
   ]
  },
  {
   "cell_type": "markdown",
   "id": "b7909ee7",
   "metadata": {},
   "source": [
    "## Bag-of-words\n"
   ]
  },
  {
   "cell_type": "markdown",
   "id": "95866de6",
   "metadata": {},
   "source": [
    "The following models a text document using bag-of-words. Here are two simple text documents:\n",
    "\n",
    "(1) John likes to watch movies. Mary likes movies too.\n",
    "\n",
    "(2) Mary also likes to watch football games.\n",
    "\n",
    "Based on these two text documents, a Tokenization is constructed as follows for each document:\n",
    "\n",
    "\"John\",\"likes\",\"to\",\"watch\",\"movies\",\"Mary\",\"likes\",\"movies\",\"too\"\n",
    "\n",
    "\"Mary\",\"also\",\"likes\",\"to\",\"watch\",\"football\",\"games\"\n",
    "\n",
    "Representing each bag-of-words as a JSON object/ Dict\n",
    "\n",
    "BoW1 = {\"John\":1,\"likes\":2,\"to\":1,\"watch\":1,\"movies\":2,\"Mary\":1,\"too\":1};\n",
    "BoW2 = {\"Mary\":1,\"also\":1,\"likes\":1,\"to\":1,\"watch\":1,\"football\":1,\"games\":1};\n",
    "\n",
    "Each key is the word, and each value is the number of occurrences of that word in the given text document.\n",
    "\n",
    "The order of elements is free, so, for example {\"too\":1,\"Mary\":1,\"movies\":2,\"John\":1,\"watch\":1,\"likes\":2,\"to\":1} is also equivalent to BoW1. \n",
    "\n",
    "Note: if another document is like a union of these two,\n",
    "\n",
    "(3) John likes to watch movies. Mary likes movies too. Mary also likes to watch football games.\n",
    "its  representation will be:\n",
    "\n",
    "BoW3 = {\"John\":1,\"likes\":3,\"to\":2,\"watch\":2,\"movies\":2,\"Mary\":2,\"too\":1,\"also\":1,\"football\":1,\"games\":1};\n",
    "So, as we see in the bag algebra, the \"union\" of two documents in the bags-of-words representation is, formally, the disjoint union, summing the multiplicities of each element.\n",
    "\n",
    "\n",
    "\n",
    "Application\n",
    "In practice, the Bag-of-words model is mainly used as a tool of feature generation. After transforming the text into a \"bag of words\", we can calculate various measures to characterize the text. The most common type of characteristics, or features calculated from the Bag-of-words model is term frequency, namely, the number of times a term appears in the text. For the example above, we can construct the following two lists to record the term frequencies of all the distinct words (BoW1 and BoW2 ordered as in BoW3):\n",
    "\n",
    "(1) [1, 2, 1, 1, 2, 1, 1, 0, 0, 0]\n",
    "\n",
    "(2) [0, 1, 1, 1, 0, 1, 0, 1, 1, 1]\n",
    "\n",
    "                                                                                                               Source : wiki"
   ]
  },
  {
   "cell_type": "markdown",
   "id": "a514433d",
   "metadata": {},
   "source": [
    "Drawbacks of using a Bag-of-Words (BoW) \n",
    "If the new sentences contain new words, then our vocabulary size would increase and thereby, the length of the vectors would increase too. Additionally, the vectors would also contain many 0s, thereby resulting in a sparse matrix (which is what we would like to avoid)"
   ]
  },
  {
   "cell_type": "code",
   "execution_count": 17,
   "id": "2fc9ffd7",
   "metadata": {},
   "outputs": [
    {
     "data": {
      "text/plain": [
       "['dog bites man', 'man bites dog', 'dog eats meat', 'man eats food']"
      ]
     },
     "execution_count": 17,
     "metadata": {},
     "output_type": "execute_result"
    }
   ],
   "source": [
    "documents = [\"Dog bites man.\", \"Man bites dog.\", \"Dog eats meat.\", \"Man eats food.\"] #Same as the earlier notebook\n",
    "processed_docs = [doc.lower().replace(\".\",\"\") for doc in documents]\n",
    "processed_docs"
   ]
  },
  {
   "cell_type": "code",
   "execution_count": 18,
   "id": "cd96c43e",
   "metadata": {},
   "outputs": [
    {
     "name": "stdout",
     "output_type": "stream",
     "text": [
      "Our corpus:  ['dog bites man', 'man bites dog', 'dog eats meat', 'man eats food']\n",
      "Our vocabulary:  {'dog': 1, 'bites': 0, 'man': 4, 'eats': 2, 'meat': 5, 'food': 3}\n",
      "BoW representation for 'dog bites man':  [[1 1 0 0 1 0]]\n",
      "BoW representation for 'man bites dog:  [[1 1 0 0 1 0]]\n",
      "Bow representation for 'dog and dog are friends': [[0 2 0 0 0 0]]\n"
     ]
    }
   ],
   "source": [
    "from sklearn.feature_extraction.text import CountVectorizer\n",
    "\n",
    "#look at the documents list\n",
    "print(\"Our corpus: \", processed_docs)\n",
    "\n",
    "count_vect = CountVectorizer()\n",
    "#Build a BOW representation for the corpus\n",
    "bow_rep = count_vect.fit_transform(processed_docs)\n",
    "\n",
    "#Look at the vocabulary mapping\n",
    "print(\"Our vocabulary: \", count_vect.vocabulary_)\n",
    "\n",
    "#see the BOW rep for first 2 documents\n",
    "print(\"BoW representation for 'dog bites man': \", bow_rep[0].toarray())\n",
    "print(\"BoW representation for 'man bites dog: \",bow_rep[1].toarray())\n",
    "\n",
    "#Get the representation using this vocabulary, for a new text\n",
    "temp = count_vect.transform([\"dog and dog are friends\"])\n",
    "print(\"Bow representation for 'dog and dog are friends':\", temp.toarray())"
   ]
  },
  {
   "cell_type": "markdown",
   "id": "ccda802a",
   "metadata": {},
   "source": [
    " In the above code, we represented the text considering the frequency of words into account. However, sometimes, we don't care about frequency much, but only want to know whether a word appeared in a text or not. That is, each document is represented as a vector of 0s and 1s. We will use the option binary=True in CountVectorizer for this purpose."
   ]
  },
  {
   "cell_type": "code",
   "execution_count": 10,
   "id": "37b854cc",
   "metadata": {},
   "outputs": [
    {
     "name": "stdout",
     "output_type": "stream",
     "text": [
      "Bow representation for 'dog and dog are friends': [[0 1 0 0 0 0]]\n"
     ]
    }
   ],
   "source": [
    "#BoW with binary vectors\n",
    "count_vect = CountVectorizer(binary=True)\n",
    "count_vect.fit(processed_docs)\n",
    "temp = count_vect.transform([\"dog and dog are friends\"])\n",
    "print(\"Bow representation for 'dog and dog are friends':\", temp.toarray())"
   ]
  },
  {
   "cell_type": "markdown",
   "id": "1ae450dc",
   "metadata": {},
   "source": [
    "# TF-IDF"
   ]
  },
  {
   "cell_type": "markdown",
   "id": "e56e920f",
   "metadata": {},
   "source": [
    "TF-IDF which means Term Frequency and Inverse Document Frequency"
   ]
  },
  {
   "cell_type": "markdown",
   "id": "b408441e",
   "metadata": {},
   "source": [
    "Understanding TF-IDF in Details with example:\n",
    "Let’s understand TF-IDF though the same example which we saw in “Bag of words”\n",
    "\n",
    "Let’s say we have sentences like below\n",
    "\n",
    "1.He is eating Veg\n",
    "\n",
    "2.She is eating NonVeg\n",
    "\n",
    "3.Both are eating Food\n",
    "\n",
    "After Applying data cleansing technique and apply stop words we will get below sentences words and there count.\n"
   ]
  },
  {
   "attachments": {
    "1_fHXgR-q2Uy0wqCiiob5L1Q.png": {
     "image/png": "[encoded data removed]"
    }
   },
   "cell_type": "markdown",
   "id": "9ed62f01",
   "metadata": {},
   "source": [
    "  ![1_fHXgR-q2Uy0wqCiiob5L1Q.png](attachment:1_fHXgR-q2Uy0wqCiiob5L1Q.png)"
   ]
  },
  {
   "attachments": {
    "1_2Y4LkwR94fMMNOLTvHlIXw.png": {
     "image/png": "[encoded data removed]"
    }
   },
   "cell_type": "markdown",
   "id": "e2a907dc",
   "metadata": {},
   "source": [
    "![1_2Y4LkwR94fMMNOLTvHlIXw.png](attachment:1_2Y4LkwR94fMMNOLTvHlIXw.png)"
   ]
  },
  {
   "cell_type": "markdown",
   "id": "18011490",
   "metadata": {},
   "source": [
    "### Lets see the formula to calculate Term Frequency (TF)"
   ]
  },
  {
   "attachments": {
    "1_Sea7Nis9wSuRhtE0x1lnLA.png": {
     "image/png": "[encoded data removed]"
    }
   },
   "cell_type": "markdown",
   "id": "925a7bb3",
   "metadata": {},
   "source": [
    "![1_Sea7Nis9wSuRhtE0x1lnLA.png](attachment:1_Sea7Nis9wSuRhtE0x1lnLA.png)"
   ]
  },
  {
   "cell_type": "markdown",
   "id": "4fb48d6c",
   "metadata": {},
   "source": [
    "## Lets calculate Term Frequency for our sentences\n"
   ]
  },
  {
   "attachments": {
    "1_j0eFud1jkbywLt7zoyBrew.png": {
     "image/png": "[encoded data removed]"
    }
   },
   "cell_type": "markdown",
   "id": "271ac6a1",
   "metadata": {},
   "source": [
    "![1_j0eFud1jkbywLt7zoyBrew.png](attachment:1_j0eFud1jkbywLt7zoyBrew.png)"
   ]
  },
  {
   "cell_type": "markdown",
   "id": "74ad8d5c",
   "metadata": {},
   "source": [
    "### Lets see the formula to calculate Inverse Document Frequency(IDF)"
   ]
  },
  {
   "attachments": {
    "1_33rTbQmvUh5cENS-66ZJcA.png": {
     "image/png": "[encoded data removed]"
    }
   },
   "cell_type": "markdown",
   "id": "040d90b2",
   "metadata": {},
   "source": [
    "![1_33rTbQmvUh5cENS-66ZJcA.png](attachment:1_33rTbQmvUh5cENS-66ZJcA.png)"
   ]
  },
  {
   "cell_type": "markdown",
   "id": "84d328e2",
   "metadata": {},
   "source": [
    "### Lets Calculate Inverse Document Frequency(IDF) for our words in sentences"
   ]
  },
  {
   "attachments": {
    "1_qX8wOtNJB92xHlwdrjrEFQ.png": {
     "image/png": "[encoded data removed]"
    }
   },
   "cell_type": "markdown",
   "id": "e5a827c5",
   "metadata": {},
   "source": [
    "![1_qX8wOtNJB92xHlwdrjrEFQ.png](attachment:1_qX8wOtNJB92xHlwdrjrEFQ.png)"
   ]
  },
  {
   "cell_type": "markdown",
   "id": "c1a47d0d",
   "metadata": {},
   "source": [
    "\n",
    "### Now to Calculate TF-IDF ,multiply TF table generated above with IDF"
   ]
  },
  {
   "attachments": {
    "1__gjbGsHUcSJ_dEdXB0UEWw.png": {
     "image/png": "[encoded data removed]"
    }
   },
   "cell_type": "markdown",
   "id": "30351d44",
   "metadata": {},
   "source": [
    "![1__gjbGsHUcSJ_dEdXB0UEWw.png](attachment:1__gjbGsHUcSJ_dEdXB0UEWw.png)"
   ]
  },
  {
   "cell_type": "markdown",
   "id": "e50d3f52",
   "metadata": {},
   "source": [
    "\n",
    "\n",
    "### After Simplifying we get below table of TF * IDF Matrix"
   ]
  },
  {
   "attachments": {
    "1_6dGHBvFnw71CXaUxEmn5EQ.png": {
     "image/png": "[encoded data removed]"
    }
   },
   "cell_type": "markdown",
   "id": "c7010a6d",
   "metadata": {},
   "source": [
    "![1_6dGHBvFnw71CXaUxEmn5EQ.png](attachment:1_6dGHBvFnw71CXaUxEmn5EQ.png)"
   ]
  },
  {
   "cell_type": "markdown",
   "id": "6833df99",
   "metadata": {},
   "source": [
    "                                                                                                             source: Medium \n",
    "\n",
    "\n",
    "\n",
    "\n",
    "\n",
    "\n",
    "\n",
    "\n"
   ]
  },
  {
   "cell_type": "markdown",
   "id": "e5c705ce",
   "metadata": {},
   "source": [
    "### NLTK  TF-IDF implementation"
   ]
  },
  {
   "cell_type": "code",
   "execution_count": 13,
   "id": "a7182b5e",
   "metadata": {},
   "outputs": [
    {
     "name": "stdout",
     "output_type": "stream",
     "text": [
      "[['this', 'is', 'sentence', 'one'], ['this', 'is', 'sentence', 'two'], ['this', 'is', 'sentence', 'three']]\n",
      "<Text: this is sentence one this is sentence two...>\n",
      "0.08333333333333333\n",
      "1.0986122886681098\n",
      "0.0915510240556758\n"
     ]
    }
   ],
   "source": [
    "from nltk.text import TextCollection\n",
    "from nltk.tokenize import word_tokenize\n",
    " \n",
    "sents=['this is sentence one','this is sentence two','this is sentence three']\n",
    "sents=[word_tokenize(sent) for sent in sents]\n",
    "print(sents)\n",
    "corpus=TextCollection(sents)\n",
    "print(corpus)\n",
    " \n",
    "tf=corpus.tf('one',corpus)\n",
    "print(tf)\n",
    " \n",
    "idf=corpus.idf('one')\n",
    "print(idf)\n",
    " \n",
    "tf_idf=corpus.tf_idf('one',corpus)\n",
    "print(tf_idf)"
   ]
  },
  {
   "cell_type": "markdown",
   "id": "ff98dcf2",
   "metadata": {},
   "source": [
    "### SKlearn  Implementation "
   ]
  },
  {
   "cell_type": "code",
   "execution_count": 14,
   "id": "6f513586",
   "metadata": {},
   "outputs": [
    {
     "name": "stdout",
     "output_type": "stream",
     "text": [
      "Output x_train text vector：\n",
      "[[0.22941573 0.22941573 0.22941573 0.45883147 0.22941573 0.22941573\n",
      "  0.22941573 0.22941573 0.45883147 0.45883147]]\n",
      "Output x_test text vector：\n",
      "[[0. 0. 0. 0. 0. 0. 0. 0. 0. 0.]\n",
      " [0. 0. 0. 0. 1. 0. 0. 0. 0. 0.]]\n"
     ]
    }
   ],
   "source": [
    "\n",
    "from sklearn.feature_extraction.text import CountVectorizer\n",
    "from sklearn.feature_extraction.text import TfidfTransformer\n",
    " \n",
    "x_train = ['The main idea of TF-IDF is that algorithm is an important feature that can be separated from the corpus background']\n",
    "x_test=['Original text marked ',' main idea']\n",
    " \n",
    "vectorizer = CountVectorizer(max_features=10)\n",
    "\n",
    "tf_idf_transformer = TfidfTransformer() \n",
    "\n",
    "tf_idf = tf_idf_transformer.fit_transform(vectorizer.fit_transform(x_train))\n",
    "\n",
    "x_train_weight = tf_idf.toarray()\n",
    " \n",
    "\n",
    "tf_idf = tf_idf_transformer.transform(vectorizer.transform(x_test))\n",
    "x_test_weight = tf_idf.toarray()\n",
    " \n",
    "print('Output x_train text vector：')\n",
    "print(x_train_weight)\n",
    "print('Output x_test text vector：')\n",
    "print(x_test_weight)"
   ]
  },
  {
   "cell_type": "markdown",
   "id": "fd81613d",
   "metadata": {},
   "source": [
    "### Suppose that we have term count tables of a corpus consisting of only two documents, as listed on the right."
   ]
  },
  {
   "cell_type": "raw",
   "id": "768bdee3",
   "metadata": {},
   "source": [
    "Document 1 :\n",
    "\n",
    "Term:Term Count\n",
    "\n",
    "this:1\n",
    "\n",
    "is:1\n",
    "\n",
    "a:2\n",
    "\n",
    "sample:1"
   ]
  },
  {
   "cell_type": "raw",
   "id": "fd2aa899",
   "metadata": {},
   "source": [
    "Document 2 :\n",
    "\n",
    "Term:Term Count\n",
    "\n",
    "this:1\n",
    "\n",
    "is:1\n",
    "\n",
    "another:2\n",
    "\n",
    "example:3"
   ]
  },
  {
   "cell_type": "markdown",
   "id": "4703017b",
   "metadata": {},
   "source": [
    "\n",
    "#### Perform  TF-IDF Calculation for this 2 doc manually using Pen & Paper"
   ]
  },
  {
   "cell_type": "markdown",
   "id": "8b417b38",
   "metadata": {},
   "source": [
    "### N-Gram\n",
    "\n",
    "it helps in combining the words. \n",
    "\n",
    "Uni-Gram : 1 word at a time\n",
    "\n",
    "Bi-gram : 2 word at a time\n",
    "\n",
    "Tri-gram : 3 word at a time"
   ]
  },
  {
   "cell_type": "markdown",
   "id": "ec0f57e6",
   "metadata": {},
   "source": [
    "### Python Code to do Bi-gram\n",
    "\n",
    "For example \n",
    "\n",
    "input=\"Phone is not good\"\n",
    "\n",
    "output=[\"Phone is\",\" is not\",\"not good\"]"
   ]
  },
  {
   "cell_type": "code",
   "execution_count": null,
   "id": "c0095f09",
   "metadata": {},
   "outputs": [],
   "source": []
  }
 ],
 "metadata": {
  "kernelspec": {
   "display_name": "Python 3 (ipykernel)",
   "language": "python",
   "name": "python3"
  },
  "language_info": {
   "codemirror_mode": {
    "name": "ipython",
    "version": 3
   },
   "file_extension": ".py",
   "mimetype": "text/x-python",
   "name": "python",
   "nbconvert_exporter": "python",
   "pygments_lexer": "ipython3",
   "version": "3.9.7"
  }
 },
 "nbformat": 4,
 "nbformat_minor": 5
}
